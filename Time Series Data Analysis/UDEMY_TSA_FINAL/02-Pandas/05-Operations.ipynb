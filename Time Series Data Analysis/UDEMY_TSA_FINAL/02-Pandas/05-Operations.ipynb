{
 "cells": [
  {
   "cell_type": "markdown",
   "metadata": {},
   "source": [
    "___\n",
    "\n",
    "<a href='http://www.pieriandata.com'><img src='../Pierian_Data_Logo.png'/></a>\n",
    "___\n",
    "<center><em>Copyright Pierian Data</em></center>\n",
    "<center><em>For more information, visit us at <a href='http://www.pieriandata.com'>www.pieriandata.com</a></em></center>"
   ]
  },
  {
   "cell_type": "markdown",
   "metadata": {
    "collapsed": true
   },
   "source": [
    "# Operations\n",
    "\n",
    "There are lots of operations with pandas that will be really useful to you, but don't fall into any distinct category. Let's show them here in this lecture:"
   ]
  },
  {
   "cell_type": "code",
   "execution_count": 1,
   "metadata": {
    "ExecuteTime": {
     "end_time": "2023-11-30T02:25:15.922298Z",
     "start_time": "2023-11-30T02:25:15.556140Z"
    }
   },
   "outputs": [
    {
     "data": {
      "text/plain": "   col1  col2 col3\n0     1   444  abc\n1     2   555  def\n2     3   666  ghi\n3     4   444  xyz",
      "text/html": "<div>\n<style scoped>\n    .dataframe tbody tr th:only-of-type {\n        vertical-align: middle;\n    }\n\n    .dataframe tbody tr th {\n        vertical-align: top;\n    }\n\n    .dataframe thead th {\n        text-align: right;\n    }\n</style>\n<table border=\"1\" class=\"dataframe\">\n  <thead>\n    <tr style=\"text-align: right;\">\n      <th></th>\n      <th>col1</th>\n      <th>col2</th>\n      <th>col3</th>\n    </tr>\n  </thead>\n  <tbody>\n    <tr>\n      <th>0</th>\n      <td>1</td>\n      <td>444</td>\n      <td>abc</td>\n    </tr>\n    <tr>\n      <th>1</th>\n      <td>2</td>\n      <td>555</td>\n      <td>def</td>\n    </tr>\n    <tr>\n      <th>2</th>\n      <td>3</td>\n      <td>666</td>\n      <td>ghi</td>\n    </tr>\n    <tr>\n      <th>3</th>\n      <td>4</td>\n      <td>444</td>\n      <td>xyz</td>\n    </tr>\n  </tbody>\n</table>\n</div>"
     },
     "execution_count": 1,
     "metadata": {},
     "output_type": "execute_result"
    }
   ],
   "source": [
    "import pandas as pd\n",
    "df = pd.DataFrame({'col1':[1,2,3,4],'col2':[444,555,666,444],'col3':['abc','def','ghi','xyz']})\n",
    "df.head()"
   ]
  },
  {
   "cell_type": "markdown",
   "metadata": {},
   "source": [
    "### Info on Unique Values"
   ]
  },
  {
   "cell_type": "code",
   "execution_count": 2,
   "metadata": {
    "ExecuteTime": {
     "end_time": "2023-11-30T02:25:15.923485Z",
     "start_time": "2023-11-30T02:25:15.920011Z"
    }
   },
   "outputs": [
    {
     "data": {
      "text/plain": "array([444, 555, 666])"
     },
     "execution_count": 2,
     "metadata": {},
     "output_type": "execute_result"
    }
   ],
   "source": [
    "df['col2'].unique()"
   ]
  },
  {
   "cell_type": "code",
   "execution_count": 3,
   "metadata": {
    "ExecuteTime": {
     "end_time": "2023-11-30T02:25:15.929753Z",
     "start_time": "2023-11-30T02:25:15.924125Z"
    }
   },
   "outputs": [
    {
     "data": {
      "text/plain": "3"
     },
     "execution_count": 3,
     "metadata": {},
     "output_type": "execute_result"
    }
   ],
   "source": [
    "df['col2'].nunique()"
   ]
  },
  {
   "cell_type": "code",
   "execution_count": 4,
   "metadata": {
    "ExecuteTime": {
     "end_time": "2023-11-30T02:25:15.932182Z",
     "start_time": "2023-11-30T02:25:15.928757Z"
    }
   },
   "outputs": [
    {
     "data": {
      "text/plain": "col2\n444    2\n555    1\n666    1\nName: count, dtype: int64"
     },
     "execution_count": 4,
     "metadata": {},
     "output_type": "execute_result"
    }
   ],
   "source": [
    "df['col2'].value_counts()"
   ]
  },
  {
   "cell_type": "markdown",
   "metadata": {},
   "source": [
    "### Selecting Data"
   ]
  },
  {
   "cell_type": "code",
   "execution_count": 5,
   "metadata": {
    "collapsed": true,
    "ExecuteTime": {
     "end_time": "2023-11-30T02:25:15.937431Z",
     "start_time": "2023-11-30T02:25:15.935298Z"
    }
   },
   "outputs": [],
   "source": [
    "#Select from DataFrame using criteria from multiple columns\n",
    "newdf = df[(df['col1']>2) & (df['col2']==444)]"
   ]
  },
  {
   "cell_type": "code",
   "execution_count": 6,
   "metadata": {
    "ExecuteTime": {
     "end_time": "2023-11-30T02:25:15.956825Z",
     "start_time": "2023-11-30T02:25:15.939654Z"
    }
   },
   "outputs": [
    {
     "data": {
      "text/plain": "   col1  col2 col3\n3     4   444  xyz",
      "text/html": "<div>\n<style scoped>\n    .dataframe tbody tr th:only-of-type {\n        vertical-align: middle;\n    }\n\n    .dataframe tbody tr th {\n        vertical-align: top;\n    }\n\n    .dataframe thead th {\n        text-align: right;\n    }\n</style>\n<table border=\"1\" class=\"dataframe\">\n  <thead>\n    <tr style=\"text-align: right;\">\n      <th></th>\n      <th>col1</th>\n      <th>col2</th>\n      <th>col3</th>\n    </tr>\n  </thead>\n  <tbody>\n    <tr>\n      <th>3</th>\n      <td>4</td>\n      <td>444</td>\n      <td>xyz</td>\n    </tr>\n  </tbody>\n</table>\n</div>"
     },
     "execution_count": 6,
     "metadata": {},
     "output_type": "execute_result"
    }
   ],
   "source": [
    "newdf"
   ]
  },
  {
   "cell_type": "markdown",
   "metadata": {},
   "source": [
    "### Applying Functions"
   ]
  },
  {
   "cell_type": "code",
   "execution_count": 7,
   "metadata": {
    "collapsed": true,
    "ExecuteTime": {
     "end_time": "2023-11-30T02:25:15.967167Z",
     "start_time": "2023-11-30T02:25:15.943210Z"
    }
   },
   "outputs": [],
   "source": [
    "def times2(x):\n",
    "    return x*2"
   ]
  },
  {
   "cell_type": "code",
   "execution_count": 8,
   "metadata": {
    "ExecuteTime": {
     "end_time": "2023-11-30T02:25:15.967668Z",
     "start_time": "2023-11-30T02:25:15.946775Z"
    }
   },
   "outputs": [
    {
     "data": {
      "text/plain": "0    2\n1    4\n2    6\n3    8\nName: col1, dtype: int64"
     },
     "execution_count": 8,
     "metadata": {},
     "output_type": "execute_result"
    }
   ],
   "source": [
    "df['col1'].apply(times2)"
   ]
  },
  {
   "cell_type": "code",
   "execution_count": 9,
   "outputs": [],
   "source": [
    "df['new'] = df['col1'].apply(times2)"
   ],
   "metadata": {
    "collapsed": false,
    "ExecuteTime": {
     "end_time": "2023-11-30T02:25:15.967740Z",
     "start_time": "2023-11-30T02:25:15.950955Z"
    }
   }
  },
  {
   "cell_type": "code",
   "execution_count": 10,
   "outputs": [
    {
     "data": {
      "text/plain": "   col1  col2 col3  new\n0     1   444  abc    2\n1     2   555  def    4\n2     3   666  ghi    6\n3     4   444  xyz    8",
      "text/html": "<div>\n<style scoped>\n    .dataframe tbody tr th:only-of-type {\n        vertical-align: middle;\n    }\n\n    .dataframe tbody tr th {\n        vertical-align: top;\n    }\n\n    .dataframe thead th {\n        text-align: right;\n    }\n</style>\n<table border=\"1\" class=\"dataframe\">\n  <thead>\n    <tr style=\"text-align: right;\">\n      <th></th>\n      <th>col1</th>\n      <th>col2</th>\n      <th>col3</th>\n      <th>new</th>\n    </tr>\n  </thead>\n  <tbody>\n    <tr>\n      <th>0</th>\n      <td>1</td>\n      <td>444</td>\n      <td>abc</td>\n      <td>2</td>\n    </tr>\n    <tr>\n      <th>1</th>\n      <td>2</td>\n      <td>555</td>\n      <td>def</td>\n      <td>4</td>\n    </tr>\n    <tr>\n      <th>2</th>\n      <td>3</td>\n      <td>666</td>\n      <td>ghi</td>\n      <td>6</td>\n    </tr>\n    <tr>\n      <th>3</th>\n      <td>4</td>\n      <td>444</td>\n      <td>xyz</td>\n      <td>8</td>\n    </tr>\n  </tbody>\n</table>\n</div>"
     },
     "execution_count": 10,
     "metadata": {},
     "output_type": "execute_result"
    }
   ],
   "source": [
    "df"
   ],
   "metadata": {
    "collapsed": false,
    "ExecuteTime": {
     "end_time": "2023-11-30T02:25:15.968811Z",
     "start_time": "2023-11-30T02:25:15.955339Z"
    }
   }
  },
  {
   "cell_type": "code",
   "execution_count": 11,
   "metadata": {
    "ExecuteTime": {
     "end_time": "2023-11-30T02:25:15.971928Z",
     "start_time": "2023-11-30T02:25:15.959531Z"
    }
   },
   "outputs": [
    {
     "data": {
      "text/plain": "0    3\n1    3\n2    3\n3    3\nName: col3, dtype: int64"
     },
     "execution_count": 11,
     "metadata": {},
     "output_type": "execute_result"
    }
   ],
   "source": [
    "df['col3'].apply(len)"
   ]
  },
  {
   "cell_type": "code",
   "execution_count": 12,
   "metadata": {
    "ExecuteTime": {
     "end_time": "2023-11-30T02:25:15.987156Z",
     "start_time": "2023-11-30T02:25:15.962859Z"
    }
   },
   "outputs": [
    {
     "data": {
      "text/plain": "10"
     },
     "execution_count": 12,
     "metadata": {},
     "output_type": "execute_result"
    }
   ],
   "source": [
    "df['col1'].sum()"
   ]
  },
  {
   "cell_type": "markdown",
   "metadata": {},
   "source": [
    "### Permanently Removing a Column"
   ]
  },
  {
   "cell_type": "code",
   "execution_count": 13,
   "metadata": {
    "collapsed": true,
    "ExecuteTime": {
     "end_time": "2023-11-30T02:25:15.989694Z",
     "start_time": "2023-11-30T02:25:15.967332Z"
    }
   },
   "outputs": [],
   "source": [
    "del df['col1']\n",
    "df.drop('new', axis=1, inplace=True)"
   ]
  },
  {
   "cell_type": "code",
   "execution_count": 14,
   "metadata": {
    "ExecuteTime": {
     "end_time": "2023-11-30T02:25:15.990852Z",
     "start_time": "2023-11-30T02:25:15.973412Z"
    }
   },
   "outputs": [
    {
     "data": {
      "text/plain": "   col2 col3\n0   444  abc\n1   555  def\n2   666  ghi\n3   444  xyz",
      "text/html": "<div>\n<style scoped>\n    .dataframe tbody tr th:only-of-type {\n        vertical-align: middle;\n    }\n\n    .dataframe tbody tr th {\n        vertical-align: top;\n    }\n\n    .dataframe thead th {\n        text-align: right;\n    }\n</style>\n<table border=\"1\" class=\"dataframe\">\n  <thead>\n    <tr style=\"text-align: right;\">\n      <th></th>\n      <th>col2</th>\n      <th>col3</th>\n    </tr>\n  </thead>\n  <tbody>\n    <tr>\n      <th>0</th>\n      <td>444</td>\n      <td>abc</td>\n    </tr>\n    <tr>\n      <th>1</th>\n      <td>555</td>\n      <td>def</td>\n    </tr>\n    <tr>\n      <th>2</th>\n      <td>666</td>\n      <td>ghi</td>\n    </tr>\n    <tr>\n      <th>3</th>\n      <td>444</td>\n      <td>xyz</td>\n    </tr>\n  </tbody>\n</table>\n</div>"
     },
     "execution_count": 14,
     "metadata": {},
     "output_type": "execute_result"
    }
   ],
   "source": [
    "df"
   ]
  },
  {
   "cell_type": "markdown",
   "metadata": {},
   "source": [
    "### Get column and index names:"
   ]
  },
  {
   "cell_type": "code",
   "execution_count": 15,
   "metadata": {
    "ExecuteTime": {
     "end_time": "2023-11-30T02:25:16.009214Z",
     "start_time": "2023-11-30T02:25:15.976880Z"
    }
   },
   "outputs": [
    {
     "data": {
      "text/plain": "Index(['col2', 'col3'], dtype='object')"
     },
     "execution_count": 15,
     "metadata": {},
     "output_type": "execute_result"
    }
   ],
   "source": [
    "df.columns"
   ]
  },
  {
   "cell_type": "code",
   "execution_count": 16,
   "metadata": {
    "ExecuteTime": {
     "end_time": "2023-11-30T02:25:16.009379Z",
     "start_time": "2023-11-30T02:25:15.980657Z"
    }
   },
   "outputs": [
    {
     "data": {
      "text/plain": "RangeIndex(start=0, stop=4, step=1)"
     },
     "execution_count": 16,
     "metadata": {},
     "output_type": "execute_result"
    }
   ],
   "source": [
    "df.index"
   ]
  },
  {
   "cell_type": "code",
   "execution_count": 17,
   "outputs": [
    {
     "name": "stdout",
     "output_type": "stream",
     "text": [
      "<class 'pandas.core.frame.DataFrame'>\n",
      "RangeIndex: 4 entries, 0 to 3\n",
      "Data columns (total 2 columns):\n",
      " #   Column  Non-Null Count  Dtype \n",
      "---  ------  --------------  ----- \n",
      " 0   col2    4 non-null      int64 \n",
      " 1   col3    4 non-null      object\n",
      "dtypes: int64(1), object(1)\n",
      "memory usage: 192.0+ bytes\n"
     ]
    }
   ],
   "source": [
    "df.info()"
   ],
   "metadata": {
    "collapsed": false,
    "ExecuteTime": {
     "end_time": "2023-11-30T02:25:16.010576Z",
     "start_time": "2023-11-30T02:25:15.987091Z"
    }
   }
  },
  {
   "cell_type": "code",
   "execution_count": 18,
   "outputs": [
    {
     "data": {
      "text/plain": "             col2\ncount    4.000000\nmean   527.250000\nstd    106.274409\nmin    444.000000\n25%    444.000000\n50%    499.500000\n75%    582.750000\nmax    666.000000",
      "text/html": "<div>\n<style scoped>\n    .dataframe tbody tr th:only-of-type {\n        vertical-align: middle;\n    }\n\n    .dataframe tbody tr th {\n        vertical-align: top;\n    }\n\n    .dataframe thead th {\n        text-align: right;\n    }\n</style>\n<table border=\"1\" class=\"dataframe\">\n  <thead>\n    <tr style=\"text-align: right;\">\n      <th></th>\n      <th>col2</th>\n    </tr>\n  </thead>\n  <tbody>\n    <tr>\n      <th>count</th>\n      <td>4.000000</td>\n    </tr>\n    <tr>\n      <th>mean</th>\n      <td>527.250000</td>\n    </tr>\n    <tr>\n      <th>std</th>\n      <td>106.274409</td>\n    </tr>\n    <tr>\n      <th>min</th>\n      <td>444.000000</td>\n    </tr>\n    <tr>\n      <th>25%</th>\n      <td>444.000000</td>\n    </tr>\n    <tr>\n      <th>50%</th>\n      <td>499.500000</td>\n    </tr>\n    <tr>\n      <th>75%</th>\n      <td>582.750000</td>\n    </tr>\n    <tr>\n      <th>max</th>\n      <td>666.000000</td>\n    </tr>\n  </tbody>\n</table>\n</div>"
     },
     "execution_count": 18,
     "metadata": {},
     "output_type": "execute_result"
    }
   ],
   "source": [
    "df.describe()"
   ],
   "metadata": {
    "collapsed": false,
    "ExecuteTime": {
     "end_time": "2023-11-30T02:25:16.031523Z",
     "start_time": "2023-11-30T02:25:15.990898Z"
    }
   }
  },
  {
   "cell_type": "markdown",
   "metadata": {},
   "source": [
    "### Sorting and Ordering a DataFrame:"
   ]
  },
  {
   "cell_type": "code",
   "execution_count": 19,
   "metadata": {
    "ExecuteTime": {
     "end_time": "2023-11-30T02:25:16.050792Z",
     "start_time": "2023-11-30T02:25:15.997724Z"
    }
   },
   "outputs": [
    {
     "data": {
      "text/plain": "   col2 col3\n0   444  abc\n1   555  def\n2   666  ghi\n3   444  xyz",
      "text/html": "<div>\n<style scoped>\n    .dataframe tbody tr th:only-of-type {\n        vertical-align: middle;\n    }\n\n    .dataframe tbody tr th {\n        vertical-align: top;\n    }\n\n    .dataframe thead th {\n        text-align: right;\n    }\n</style>\n<table border=\"1\" class=\"dataframe\">\n  <thead>\n    <tr style=\"text-align: right;\">\n      <th></th>\n      <th>col2</th>\n      <th>col3</th>\n    </tr>\n  </thead>\n  <tbody>\n    <tr>\n      <th>0</th>\n      <td>444</td>\n      <td>abc</td>\n    </tr>\n    <tr>\n      <th>1</th>\n      <td>555</td>\n      <td>def</td>\n    </tr>\n    <tr>\n      <th>2</th>\n      <td>666</td>\n      <td>ghi</td>\n    </tr>\n    <tr>\n      <th>3</th>\n      <td>444</td>\n      <td>xyz</td>\n    </tr>\n  </tbody>\n</table>\n</div>"
     },
     "execution_count": 19,
     "metadata": {},
     "output_type": "execute_result"
    }
   ],
   "source": [
    "df"
   ]
  },
  {
   "cell_type": "code",
   "execution_count": 20,
   "metadata": {
    "ExecuteTime": {
     "end_time": "2023-11-30T02:25:16.051141Z",
     "start_time": "2023-11-30T02:25:16.002592Z"
    }
   },
   "outputs": [
    {
     "data": {
      "text/plain": "   col2 col3\n0   444  abc\n3   444  xyz\n1   555  def\n2   666  ghi",
      "text/html": "<div>\n<style scoped>\n    .dataframe tbody tr th:only-of-type {\n        vertical-align: middle;\n    }\n\n    .dataframe tbody tr th {\n        vertical-align: top;\n    }\n\n    .dataframe thead th {\n        text-align: right;\n    }\n</style>\n<table border=\"1\" class=\"dataframe\">\n  <thead>\n    <tr style=\"text-align: right;\">\n      <th></th>\n      <th>col2</th>\n      <th>col3</th>\n    </tr>\n  </thead>\n  <tbody>\n    <tr>\n      <th>0</th>\n      <td>444</td>\n      <td>abc</td>\n    </tr>\n    <tr>\n      <th>3</th>\n      <td>444</td>\n      <td>xyz</td>\n    </tr>\n    <tr>\n      <th>1</th>\n      <td>555</td>\n      <td>def</td>\n    </tr>\n    <tr>\n      <th>2</th>\n      <td>666</td>\n      <td>ghi</td>\n    </tr>\n  </tbody>\n</table>\n</div>"
     },
     "execution_count": 20,
     "metadata": {},
     "output_type": "execute_result"
    }
   ],
   "source": [
    "df.sort_values(by='col2') #inplace=False by default"
   ]
  },
  {
   "cell_type": "markdown",
   "metadata": {},
   "source": [
    "# Great Job!"
   ]
  }
 ],
 "metadata": {
  "kernelspec": {
   "display_name": "Python 3",
   "language": "python",
   "name": "python3"
  },
  "language_info": {
   "codemirror_mode": {
    "name": "ipython",
    "version": 3
   },
   "file_extension": ".py",
   "mimetype": "text/x-python",
   "name": "python",
   "nbconvert_exporter": "python",
   "pygments_lexer": "ipython3",
   "version": "3.6.6"
  }
 },
 "nbformat": 4,
 "nbformat_minor": 1
}
