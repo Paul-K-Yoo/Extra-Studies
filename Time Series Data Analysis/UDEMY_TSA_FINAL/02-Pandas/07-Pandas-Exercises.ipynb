{
 "cells": [
  {
   "cell_type": "markdown",
   "metadata": {},
   "source": [
    "___\n",
    "\n",
    "<a href='http://www.pieriandata.com'><img src='../Pierian_Data_Logo.png'/></a>\n",
    "___\n",
    "<center><em>Copyright Pierian Data</em></center>\n",
    "<center><em>For more information, visit us at <a href='http://www.pieriandata.com'>www.pieriandata.com</a></em></center>"
   ]
  },
  {
   "cell_type": "markdown",
   "metadata": {},
   "source": [
    "# Pandas Exercises\n",
    "Time to test your new pandas skills! Use the <tt>population_by_county.csv</tt> file in the Data folder to complete the tasks in bold below!\n",
    "\n",
    "<div class=\"alert alert-info\" style=\"margin: 10px\"><strong>NOTE:</strong> ALL TASKS CAN BE DONE IN ONE LINE OF PANDAS CODE. GET STUCK? NO PROBLEM! CHECK OUT THE SOLUTIONS LECTURE!</div>\n",
    "\n",
    "<div class=\"alert alert-danger\" style=\"margin: 10px\"><strong>IMPORTANT NOTE!</strong> Make sure you don't run the cells directly above the example output shown, <br>otherwise you will end up writing over the example output!</div>"
   ]
  },
  {
   "cell_type": "markdown",
   "metadata": {},
   "source": [
    "#### 1. Import pandas and read in the <tt>population_by_county.csv</tt> file into a dataframe called <tt>pop</tt>."
   ]
  },
  {
   "cell_type": "code",
   "execution_count": 35,
   "metadata": {
    "ExecuteTime": {
     "end_time": "2023-11-30T03:40:09.377912Z",
     "start_time": "2023-11-30T03:40:09.373666Z"
    }
   },
   "outputs": [],
   "source": [
    "import numpy as np\n",
    "import pandas as pd"
   ]
  },
  {
   "cell_type": "code",
   "execution_count": 36,
   "metadata": {
    "ExecuteTime": {
     "end_time": "2023-11-30T03:40:10.018945Z",
     "start_time": "2023-11-30T03:40:10.008058Z"
    }
   },
   "outputs": [],
   "source": [
    "pop = pd.read_csv('../Data/population_by_county.csv')"
   ]
  },
  {
   "cell_type": "markdown",
   "metadata": {},
   "source": [
    "#### 2. Show the head of the dataframe"
   ]
  },
  {
   "cell_type": "code",
   "execution_count": 37,
   "metadata": {
    "ExecuteTime": {
     "end_time": "2023-11-30T03:40:11.590896Z",
     "start_time": "2023-11-30T03:40:11.587471Z"
    }
   },
   "outputs": [
    {
     "data": {
      "text/plain": "             County           State  2010Census  2017PopEstimate\n0  Abbeville County  South Carolina       25417            24722\n1     Acadia Parish       Louisiana       61773            62590\n2   Accomack County        Virginia       33164            32545\n3        Ada County           Idaho      392365           456849\n4      Adair County            Iowa        7682             7054",
      "text/html": "<div>\n<style scoped>\n    .dataframe tbody tr th:only-of-type {\n        vertical-align: middle;\n    }\n\n    .dataframe tbody tr th {\n        vertical-align: top;\n    }\n\n    .dataframe thead th {\n        text-align: right;\n    }\n</style>\n<table border=\"1\" class=\"dataframe\">\n  <thead>\n    <tr style=\"text-align: right;\">\n      <th></th>\n      <th>County</th>\n      <th>State</th>\n      <th>2010Census</th>\n      <th>2017PopEstimate</th>\n    </tr>\n  </thead>\n  <tbody>\n    <tr>\n      <th>0</th>\n      <td>Abbeville County</td>\n      <td>South Carolina</td>\n      <td>25417</td>\n      <td>24722</td>\n    </tr>\n    <tr>\n      <th>1</th>\n      <td>Acadia Parish</td>\n      <td>Louisiana</td>\n      <td>61773</td>\n      <td>62590</td>\n    </tr>\n    <tr>\n      <th>2</th>\n      <td>Accomack County</td>\n      <td>Virginia</td>\n      <td>33164</td>\n      <td>32545</td>\n    </tr>\n    <tr>\n      <th>3</th>\n      <td>Ada County</td>\n      <td>Idaho</td>\n      <td>392365</td>\n      <td>456849</td>\n    </tr>\n    <tr>\n      <th>4</th>\n      <td>Adair County</td>\n      <td>Iowa</td>\n      <td>7682</td>\n      <td>7054</td>\n    </tr>\n  </tbody>\n</table>\n</div>"
     },
     "execution_count": 37,
     "metadata": {},
     "output_type": "execute_result"
    }
   ],
   "source": [
    "# CODE HERE\n",
    "pop.head()"
   ]
  },
  {
   "cell_type": "code",
   "execution_count": 5,
   "metadata": {
    "ExecuteTime": {
     "end_time": "2023-11-30T03:33:19.141027Z",
     "start_time": "2023-11-30T03:33:19.128290Z"
    }
   },
   "outputs": [],
   "source": [
    "# DON'T WRITE HERE"
   ]
  },
  {
   "cell_type": "markdown",
   "metadata": {},
   "source": [
    "#### 3. What are the column names?"
   ]
  },
  {
   "cell_type": "code",
   "execution_count": 38,
   "metadata": {
    "collapsed": true,
    "ExecuteTime": {
     "end_time": "2023-11-30T03:40:14.116763Z",
     "start_time": "2023-11-30T03:40:14.113663Z"
    }
   },
   "outputs": [
    {
     "data": {
      "text/plain": "Index(['County', 'State', '2010Census', '2017PopEstimate'], dtype='object')"
     },
     "execution_count": 38,
     "metadata": {},
     "output_type": "execute_result"
    }
   ],
   "source": [
    "pop.columns"
   ]
  },
  {
   "cell_type": "code",
   "execution_count": 7,
   "metadata": {
    "ExecuteTime": {
     "end_time": "2023-11-30T03:33:32.639796Z",
     "start_time": "2023-11-30T03:33:32.632551Z"
    }
   },
   "outputs": [],
   "source": [
    "# DON'T WRITE HERE"
   ]
  },
  {
   "cell_type": "markdown",
   "metadata": {},
   "source": [
    "<strong>4. How many States are represented in this data set?</strong> <em>Note: the data includes the District of Columbia</em>"
   ]
  },
  {
   "cell_type": "code",
   "execution_count": 39,
   "metadata": {
    "collapsed": true,
    "ExecuteTime": {
     "end_time": "2023-11-30T03:40:17.501909Z",
     "start_time": "2023-11-30T03:40:17.494424Z"
    }
   },
   "outputs": [
    {
     "data": {
      "text/plain": "51"
     },
     "execution_count": 39,
     "metadata": {},
     "output_type": "execute_result"
    }
   ],
   "source": [
    "pop.nunique()['State']"
   ]
  },
  {
   "cell_type": "code",
   "execution_count": 5,
   "metadata": {},
   "outputs": [
    {
     "data": {
      "text/plain": [
       "51"
      ]
     },
     "execution_count": 5,
     "metadata": {},
     "output_type": "execute_result"
    }
   ],
   "source": [
    "# DON'T WRITE HERE"
   ]
  },
  {
   "cell_type": "markdown",
   "metadata": {},
   "source": [
    "#### 5. Get a list or array of all the states in the data set."
   ]
  },
  {
   "cell_type": "code",
   "execution_count": 40,
   "metadata": {
    "collapsed": true,
    "ExecuteTime": {
     "end_time": "2023-11-30T03:40:22.024984Z",
     "start_time": "2023-11-30T03:40:22.018896Z"
    }
   },
   "outputs": [
    {
     "data": {
      "text/plain": "array(['South Carolina', 'Louisiana', 'Virginia', 'Idaho', 'Iowa',\n       'Kentucky', 'Missouri', 'Oklahoma', 'Colorado', 'Illinois',\n       'Indiana', 'Mississippi', 'Nebraska', 'North Dakota', 'Ohio',\n       'Pennsylvania', 'Washington', 'Wisconsin', 'Vermont', 'Minnesota',\n       'Florida', 'North Carolina', 'California', 'New York', 'Wyoming',\n       'Michigan', 'Alaska', 'Maryland', 'Kansas', 'Tennessee', 'Texas',\n       'Maine', 'Arizona', 'Georgia', 'Arkansas', 'New Jersey',\n       'South Dakota', 'Alabama', 'Oregon', 'West Virginia',\n       'Massachusetts', 'Utah', 'Montana', 'New Hampshire', 'New Mexico',\n       'Rhode Island', 'Nevada', 'District of Columbia', 'Connecticut',\n       'Hawaii', 'Delaware'], dtype=object)"
     },
     "execution_count": 40,
     "metadata": {},
     "output_type": "execute_result"
    }
   ],
   "source": [
    "pop['State'].unique()"
   ]
  },
  {
   "cell_type": "code",
   "execution_count": 6,
   "metadata": {
    "scrolled": true
   },
   "outputs": [
    {
     "data": {
      "text/plain": [
       "array(['South Carolina', 'Louisiana', 'Virginia', 'Idaho', 'Iowa',\n",
       "       'Kentucky', 'Missouri', 'Oklahoma', 'Colorado', 'Illinois',\n",
       "       'Indiana', 'Mississippi', 'Nebraska', 'North Dakota', 'Ohio',\n",
       "       'Pennsylvania', 'Washington', 'Wisconsin', 'Vermont', 'Minnesota',\n",
       "       'Florida', 'North Carolina', 'California', 'New York', 'Wyoming',\n",
       "       'Michigan', 'Alaska', 'Maryland', 'Kansas', 'Tennessee', 'Texas',\n",
       "       'Maine', 'Arizona', 'Georgia', 'Arkansas', 'New Jersey',\n",
       "       'South Dakota', 'Alabama', 'Oregon', 'West Virginia',\n",
       "       'Massachusetts', 'Utah', 'Montana', 'New Hampshire', 'New Mexico',\n",
       "       'Rhode Island', 'Nevada', 'District of Columbia', 'Connecticut',\n",
       "       'Hawaii', 'Delaware'], dtype=object)"
      ]
     },
     "execution_count": 6,
     "metadata": {},
     "output_type": "execute_result"
    }
   ],
   "source": [
    "# DON'T WRITE HERE"
   ]
  },
  {
   "cell_type": "markdown",
   "metadata": {},
   "source": [
    "#### 6. What are the five most common County names in the U.S.?"
   ]
  },
  {
   "cell_type": "code",
   "execution_count": 41,
   "metadata": {
    "ExecuteTime": {
     "end_time": "2023-11-30T03:40:24.918474Z",
     "start_time": "2023-11-30T03:40:24.914333Z"
    }
   },
   "outputs": [
    {
     "data": {
      "text/plain": "County\nWashington County    30\nJefferson County     25\nFranklin County      24\nLincoln County       23\nJackson County       23\nName: count, dtype: int64"
     },
     "execution_count": 41,
     "metadata": {},
     "output_type": "execute_result"
    }
   ],
   "source": [
    "pop['County'].value_counts().head()"
   ]
  },
  {
   "cell_type": "code",
   "execution_count": 7,
   "metadata": {},
   "outputs": [
    {
     "data": {
      "text/plain": [
       "Washington County    30\n",
       "Jefferson County     25\n",
       "Franklin County      24\n",
       "Jackson County       23\n",
       "Lincoln County       23\n",
       "Name: County, dtype: int64"
      ]
     },
     "execution_count": 7,
     "metadata": {},
     "output_type": "execute_result"
    }
   ],
   "source": [
    "# DON'T WRITE HERE"
   ]
  },
  {
   "cell_type": "markdown",
   "metadata": {},
   "source": [
    "#### 7. What are the top 5 most populated Counties according to the 2010 Census?"
   ]
  },
  {
   "cell_type": "code",
   "execution_count": 42,
   "metadata": {
    "collapsed": true,
    "scrolled": true,
    "ExecuteTime": {
     "end_time": "2023-11-30T03:40:27.938285Z",
     "start_time": "2023-11-30T03:40:27.931999Z"
    }
   },
   "outputs": [
    {
     "data": {
      "text/plain": "                  County       State  2010Census  2017PopEstimate\n1713  Los Angeles County  California     9818605         10163507\n628          Cook County    Illinois     5194675          5211263\n1209       Harris County       Texas     4092459          4652980\n1784     Maricopa County     Arizona     3817117          4307033\n2501    San Diego County  California     3095313          3337685",
      "text/html": "<div>\n<style scoped>\n    .dataframe tbody tr th:only-of-type {\n        vertical-align: middle;\n    }\n\n    .dataframe tbody tr th {\n        vertical-align: top;\n    }\n\n    .dataframe thead th {\n        text-align: right;\n    }\n</style>\n<table border=\"1\" class=\"dataframe\">\n  <thead>\n    <tr style=\"text-align: right;\">\n      <th></th>\n      <th>County</th>\n      <th>State</th>\n      <th>2010Census</th>\n      <th>2017PopEstimate</th>\n    </tr>\n  </thead>\n  <tbody>\n    <tr>\n      <th>1713</th>\n      <td>Los Angeles County</td>\n      <td>California</td>\n      <td>9818605</td>\n      <td>10163507</td>\n    </tr>\n    <tr>\n      <th>628</th>\n      <td>Cook County</td>\n      <td>Illinois</td>\n      <td>5194675</td>\n      <td>5211263</td>\n    </tr>\n    <tr>\n      <th>1209</th>\n      <td>Harris County</td>\n      <td>Texas</td>\n      <td>4092459</td>\n      <td>4652980</td>\n    </tr>\n    <tr>\n      <th>1784</th>\n      <td>Maricopa County</td>\n      <td>Arizona</td>\n      <td>3817117</td>\n      <td>4307033</td>\n    </tr>\n    <tr>\n      <th>2501</th>\n      <td>San Diego County</td>\n      <td>California</td>\n      <td>3095313</td>\n      <td>3337685</td>\n    </tr>\n  </tbody>\n</table>\n</div>"
     },
     "execution_count": 42,
     "metadata": {},
     "output_type": "execute_result"
    }
   ],
   "source": [
    "pop.sort_values('2010Census', ascending=False).head()"
   ]
  },
  {
   "cell_type": "code",
   "execution_count": 8,
   "metadata": {},
   "outputs": [
    {
     "data": {
      "text/html": [
       "<div>\n",
       "<style scoped>\n",
       "    .dataframe tbody tr th:only-of-type {\n",
       "        vertical-align: middle;\n",
       "    }\n",
       "\n",
       "    .dataframe tbody tr th {\n",
       "        vertical-align: top;\n",
       "    }\n",
       "\n",
       "    .dataframe thead th {\n",
       "        text-align: right;\n",
       "    }\n",
       "</style>\n",
       "<table border=\"1\" class=\"dataframe\">\n",
       "  <thead>\n",
       "    <tr style=\"text-align: right;\">\n",
       "      <th></th>\n",
       "      <th>County</th>\n",
       "      <th>State</th>\n",
       "      <th>2010Census</th>\n",
       "      <th>2017PopEstimate</th>\n",
       "    </tr>\n",
       "  </thead>\n",
       "  <tbody>\n",
       "    <tr>\n",
       "      <th>1713</th>\n",
       "      <td>Los Angeles County</td>\n",
       "      <td>California</td>\n",
       "      <td>9818605</td>\n",
       "      <td>10163507</td>\n",
       "    </tr>\n",
       "    <tr>\n",
       "      <th>628</th>\n",
       "      <td>Cook County</td>\n",
       "      <td>Illinois</td>\n",
       "      <td>5194675</td>\n",
       "      <td>5211263</td>\n",
       "    </tr>\n",
       "    <tr>\n",
       "      <th>1209</th>\n",
       "      <td>Harris County</td>\n",
       "      <td>Texas</td>\n",
       "      <td>4092459</td>\n",
       "      <td>4652980</td>\n",
       "    </tr>\n",
       "    <tr>\n",
       "      <th>1784</th>\n",
       "      <td>Maricopa County</td>\n",
       "      <td>Arizona</td>\n",
       "      <td>3817117</td>\n",
       "      <td>4307033</td>\n",
       "    </tr>\n",
       "    <tr>\n",
       "      <th>2501</th>\n",
       "      <td>San Diego County</td>\n",
       "      <td>California</td>\n",
       "      <td>3095313</td>\n",
       "      <td>3337685</td>\n",
       "    </tr>\n",
       "  </tbody>\n",
       "</table>\n",
       "</div>"
      ],
      "text/plain": [
       "                  County       State  2010Census  2017PopEstimate\n",
       "1713  Los Angeles County  California     9818605         10163507\n",
       "628          Cook County    Illinois     5194675          5211263\n",
       "1209       Harris County       Texas     4092459          4652980\n",
       "1784     Maricopa County     Arizona     3817117          4307033\n",
       "2501    San Diego County  California     3095313          3337685"
      ]
     },
     "execution_count": 8,
     "metadata": {},
     "output_type": "execute_result"
    }
   ],
   "source": [
    "# DON'T WRITE HERE"
   ]
  },
  {
   "cell_type": "markdown",
   "metadata": {},
   "source": [
    "#### 8. What are the top 5 most populated States according to the 2010 Census?"
   ]
  },
  {
   "cell_type": "code",
   "execution_count": 43,
   "metadata": {
    "collapsed": true,
    "ExecuteTime": {
     "end_time": "2023-11-30T03:40:30.537116Z",
     "start_time": "2023-11-30T03:40:30.528284Z"
    }
   },
   "outputs": [
    {
     "data": {
      "text/plain": "                                                       County  2010Census  \\\nState                                                                       \nAlabama     Autauga CountyBaldwin CountyBarbour CountyBibb...     4779736   \nAlaska      Aleutians East BoroughAleutians West Census Ar...      710231   \nArizona     Apache CountyCochise CountyCoconino CountyGila...     6392017   \nArkansas    Arkansas CountyAshley CountyBaxter CountyBento...     2915918   \nCalifornia  Alameda CountyAlpine CountyAmador CountyButte ...    37253956   \n\n            2017PopEstimate  \nState                        \nAlabama             4874747  \nAlaska               739795  \nArizona             7016270  \nArkansas            3004279  \nCalifornia         39536653  ",
      "text/html": "<div>\n<style scoped>\n    .dataframe tbody tr th:only-of-type {\n        vertical-align: middle;\n    }\n\n    .dataframe tbody tr th {\n        vertical-align: top;\n    }\n\n    .dataframe thead th {\n        text-align: right;\n    }\n</style>\n<table border=\"1\" class=\"dataframe\">\n  <thead>\n    <tr style=\"text-align: right;\">\n      <th></th>\n      <th>County</th>\n      <th>2010Census</th>\n      <th>2017PopEstimate</th>\n    </tr>\n    <tr>\n      <th>State</th>\n      <th></th>\n      <th></th>\n      <th></th>\n    </tr>\n  </thead>\n  <tbody>\n    <tr>\n      <th>Alabama</th>\n      <td>Autauga CountyBaldwin CountyBarbour CountyBibb...</td>\n      <td>4779736</td>\n      <td>4874747</td>\n    </tr>\n    <tr>\n      <th>Alaska</th>\n      <td>Aleutians East BoroughAleutians West Census Ar...</td>\n      <td>710231</td>\n      <td>739795</td>\n    </tr>\n    <tr>\n      <th>Arizona</th>\n      <td>Apache CountyCochise CountyCoconino CountyGila...</td>\n      <td>6392017</td>\n      <td>7016270</td>\n    </tr>\n    <tr>\n      <th>Arkansas</th>\n      <td>Arkansas CountyAshley CountyBaxter CountyBento...</td>\n      <td>2915918</td>\n      <td>3004279</td>\n    </tr>\n    <tr>\n      <th>California</th>\n      <td>Alameda CountyAlpine CountyAmador CountyButte ...</td>\n      <td>37253956</td>\n      <td>39536653</td>\n    </tr>\n  </tbody>\n</table>\n</div>"
     },
     "execution_count": 43,
     "metadata": {},
     "output_type": "execute_result"
    }
   ],
   "source": [
    "pop.groupby('State').sum().head()"
   ]
  },
  {
   "cell_type": "code",
   "execution_count": 44,
   "outputs": [
    {
     "data": {
      "text/plain": "                                                       County  2010Census  \\\nState                                                                       \nCalifornia  Alameda CountyAlpine CountyAmador CountyButte ...    37253956   \nTexas       Anderson CountyAndrews CountyAngelina CountyAr...    25145561   \nNew York    Albany CountyAllegany CountyBronx CountyBroome...    19378102   \nFlorida     Alachua CountyBaker CountyBay CountyBradford C...    18801310   \nIllinois    Adams CountyAlexander CountyBond CountyBoone C...    12830632   \n\n            2017PopEstimate  \nState                        \nCalifornia         39536653  \nTexas              28304596  \nNew York           19849399  \nFlorida            20984400  \nIllinois           12802023  ",
      "text/html": "<div>\n<style scoped>\n    .dataframe tbody tr th:only-of-type {\n        vertical-align: middle;\n    }\n\n    .dataframe tbody tr th {\n        vertical-align: top;\n    }\n\n    .dataframe thead th {\n        text-align: right;\n    }\n</style>\n<table border=\"1\" class=\"dataframe\">\n  <thead>\n    <tr style=\"text-align: right;\">\n      <th></th>\n      <th>County</th>\n      <th>2010Census</th>\n      <th>2017PopEstimate</th>\n    </tr>\n    <tr>\n      <th>State</th>\n      <th></th>\n      <th></th>\n      <th></th>\n    </tr>\n  </thead>\n  <tbody>\n    <tr>\n      <th>California</th>\n      <td>Alameda CountyAlpine CountyAmador CountyButte ...</td>\n      <td>37253956</td>\n      <td>39536653</td>\n    </tr>\n    <tr>\n      <th>Texas</th>\n      <td>Anderson CountyAndrews CountyAngelina CountyAr...</td>\n      <td>25145561</td>\n      <td>28304596</td>\n    </tr>\n    <tr>\n      <th>New York</th>\n      <td>Albany CountyAllegany CountyBronx CountyBroome...</td>\n      <td>19378102</td>\n      <td>19849399</td>\n    </tr>\n    <tr>\n      <th>Florida</th>\n      <td>Alachua CountyBaker CountyBay CountyBradford C...</td>\n      <td>18801310</td>\n      <td>20984400</td>\n    </tr>\n    <tr>\n      <th>Illinois</th>\n      <td>Adams CountyAlexander CountyBond CountyBoone C...</td>\n      <td>12830632</td>\n      <td>12802023</td>\n    </tr>\n  </tbody>\n</table>\n</div>"
     },
     "execution_count": 44,
     "metadata": {},
     "output_type": "execute_result"
    }
   ],
   "source": [
    "pop.groupby('State').sum().sort_values('2010Census', ascending=False).head()"
   ],
   "metadata": {
    "collapsed": false,
    "ExecuteTime": {
     "end_time": "2023-11-30T03:40:31.328232Z",
     "start_time": "2023-11-30T03:40:31.318328Z"
    }
   }
  },
  {
   "cell_type": "code",
   "execution_count": 45,
   "outputs": [
    {
     "data": {
      "text/plain": "            2010Census  2017PopEstimate\nState                                  \nCalifornia    37253956         39536653\nTexas         25145561         28304596\nNew York      19378102         19849399\nFlorida       18801310         20984400\nIllinois      12830632         12802023",
      "text/html": "<div>\n<style scoped>\n    .dataframe tbody tr th:only-of-type {\n        vertical-align: middle;\n    }\n\n    .dataframe tbody tr th {\n        vertical-align: top;\n    }\n\n    .dataframe thead th {\n        text-align: right;\n    }\n</style>\n<table border=\"1\" class=\"dataframe\">\n  <thead>\n    <tr style=\"text-align: right;\">\n      <th></th>\n      <th>2010Census</th>\n      <th>2017PopEstimate</th>\n    </tr>\n    <tr>\n      <th>State</th>\n      <th></th>\n      <th></th>\n    </tr>\n  </thead>\n  <tbody>\n    <tr>\n      <th>California</th>\n      <td>37253956</td>\n      <td>39536653</td>\n    </tr>\n    <tr>\n      <th>Texas</th>\n      <td>25145561</td>\n      <td>28304596</td>\n    </tr>\n    <tr>\n      <th>New York</th>\n      <td>19378102</td>\n      <td>19849399</td>\n    </tr>\n    <tr>\n      <th>Florida</th>\n      <td>18801310</td>\n      <td>20984400</td>\n    </tr>\n    <tr>\n      <th>Illinois</th>\n      <td>12830632</td>\n      <td>12802023</td>\n    </tr>\n  </tbody>\n</table>\n</div>"
     },
     "execution_count": 45,
     "metadata": {},
     "output_type": "execute_result"
    }
   ],
   "source": [
    "pop.groupby('State').sum().sort_values('2010Census', ascending=False).head().drop('County', axis=1)"
   ],
   "metadata": {
    "collapsed": false,
    "ExecuteTime": {
     "end_time": "2023-11-30T03:40:32.197531Z",
     "start_time": "2023-11-30T03:40:32.189212Z"
    }
   }
  },
  {
   "cell_type": "code",
   "execution_count": 9,
   "metadata": {},
   "outputs": [
    {
     "data": {
      "text/html": [
       "<div>\n",
       "<style scoped>\n",
       "    .dataframe tbody tr th:only-of-type {\n",
       "        vertical-align: middle;\n",
       "    }\n",
       "\n",
       "    .dataframe tbody tr th {\n",
       "        vertical-align: top;\n",
       "    }\n",
       "\n",
       "    .dataframe thead th {\n",
       "        text-align: right;\n",
       "    }\n",
       "</style>\n",
       "<table border=\"1\" class=\"dataframe\">\n",
       "  <thead>\n",
       "    <tr style=\"text-align: right;\">\n",
       "      <th></th>\n",
       "      <th>2010Census</th>\n",
       "      <th>2017PopEstimate</th>\n",
       "    </tr>\n",
       "    <tr>\n",
       "      <th>State</th>\n",
       "      <th></th>\n",
       "      <th></th>\n",
       "    </tr>\n",
       "  </thead>\n",
       "  <tbody>\n",
       "    <tr>\n",
       "      <th>California</th>\n",
       "      <td>37253956</td>\n",
       "      <td>39536653</td>\n",
       "    </tr>\n",
       "    <tr>\n",
       "      <th>Texas</th>\n",
       "      <td>25145561</td>\n",
       "      <td>28304596</td>\n",
       "    </tr>\n",
       "    <tr>\n",
       "      <th>New York</th>\n",
       "      <td>19378102</td>\n",
       "      <td>19849399</td>\n",
       "    </tr>\n",
       "    <tr>\n",
       "      <th>Florida</th>\n",
       "      <td>18801310</td>\n",
       "      <td>20984400</td>\n",
       "    </tr>\n",
       "    <tr>\n",
       "      <th>Illinois</th>\n",
       "      <td>12830632</td>\n",
       "      <td>12802023</td>\n",
       "    </tr>\n",
       "  </tbody>\n",
       "</table>\n",
       "</div>"
      ],
      "text/plain": [
       "            2010Census  2017PopEstimate\n",
       "State                                  \n",
       "California    37253956         39536653\n",
       "Texas         25145561         28304596\n",
       "New York      19378102         19849399\n",
       "Florida       18801310         20984400\n",
       "Illinois      12830632         12802023"
      ]
     },
     "execution_count": 9,
     "metadata": {},
     "output_type": "execute_result"
    }
   ],
   "source": [
    "# DON'T WRITE HERE"
   ]
  },
  {
   "cell_type": "markdown",
   "metadata": {},
   "source": [
    "#### 9. How many Counties have 2010 populations greater than 1 million?"
   ]
  },
  {
   "cell_type": "code",
   "execution_count": 46,
   "metadata": {
    "collapsed": true,
    "ExecuteTime": {
     "end_time": "2023-11-30T03:40:34.840191Z",
     "start_time": "2023-11-30T03:40:34.831979Z"
    }
   },
   "outputs": [
    {
     "data": {
      "text/plain": "                                                  State  2010Census  \\\nCounty                                                                \nAbbeville County                         South Carolina       25417   \nAcadia Parish                                 Louisiana       61773   \nAccomack County                                Virginia       33164   \nAda County                                        Idaho      392365   \nAdair County               IowaKentuckyMissouriOklahoma       74628   \n...                                                 ...         ...   \nYukon-Koyukuk Census Area                        Alaska        5588   \nYuma County                             ArizonaColorado      205794   \nZapata County                                     Texas       14018   \nZavala County                                     Texas       11677   \nZiebach County                             South Dakota        2801   \n\n                           2017PopEstimate  \nCounty                                      \nAbbeville County                     24722  \nAcadia Parish                        62590  \nAccomack County                      32545  \nAda County                          456849  \nAdair County                         73825  \n...                                    ...  \nYukon-Koyukuk Census Area             5365  \nYuma County                         217609  \nZapata County                        14322  \nZavala County                        11948  \nZiebach County                        2756  \n\n[1877 rows x 3 columns]",
      "text/html": "<div>\n<style scoped>\n    .dataframe tbody tr th:only-of-type {\n        vertical-align: middle;\n    }\n\n    .dataframe tbody tr th {\n        vertical-align: top;\n    }\n\n    .dataframe thead th {\n        text-align: right;\n    }\n</style>\n<table border=\"1\" class=\"dataframe\">\n  <thead>\n    <tr style=\"text-align: right;\">\n      <th></th>\n      <th>State</th>\n      <th>2010Census</th>\n      <th>2017PopEstimate</th>\n    </tr>\n    <tr>\n      <th>County</th>\n      <th></th>\n      <th></th>\n      <th></th>\n    </tr>\n  </thead>\n  <tbody>\n    <tr>\n      <th>Abbeville County</th>\n      <td>South Carolina</td>\n      <td>25417</td>\n      <td>24722</td>\n    </tr>\n    <tr>\n      <th>Acadia Parish</th>\n      <td>Louisiana</td>\n      <td>61773</td>\n      <td>62590</td>\n    </tr>\n    <tr>\n      <th>Accomack County</th>\n      <td>Virginia</td>\n      <td>33164</td>\n      <td>32545</td>\n    </tr>\n    <tr>\n      <th>Ada County</th>\n      <td>Idaho</td>\n      <td>392365</td>\n      <td>456849</td>\n    </tr>\n    <tr>\n      <th>Adair County</th>\n      <td>IowaKentuckyMissouriOklahoma</td>\n      <td>74628</td>\n      <td>73825</td>\n    </tr>\n    <tr>\n      <th>...</th>\n      <td>...</td>\n      <td>...</td>\n      <td>...</td>\n    </tr>\n    <tr>\n      <th>Yukon-Koyukuk Census Area</th>\n      <td>Alaska</td>\n      <td>5588</td>\n      <td>5365</td>\n    </tr>\n    <tr>\n      <th>Yuma County</th>\n      <td>ArizonaColorado</td>\n      <td>205794</td>\n      <td>217609</td>\n    </tr>\n    <tr>\n      <th>Zapata County</th>\n      <td>Texas</td>\n      <td>14018</td>\n      <td>14322</td>\n    </tr>\n    <tr>\n      <th>Zavala County</th>\n      <td>Texas</td>\n      <td>11677</td>\n      <td>11948</td>\n    </tr>\n    <tr>\n      <th>Ziebach County</th>\n      <td>South Dakota</td>\n      <td>2801</td>\n      <td>2756</td>\n    </tr>\n  </tbody>\n</table>\n<p>1877 rows × 3 columns</p>\n</div>"
     },
     "execution_count": 46,
     "metadata": {},
     "output_type": "execute_result"
    }
   ],
   "source": [
    "pop.groupby('County').sum()"
   ]
  },
  {
   "cell_type": "code",
   "execution_count": 47,
   "outputs": [
    {
     "data": {
      "text/plain": "County\nAbbeville County             False\nAcadia Parish                False\nAccomack County              False\nAda County                   False\nAdair County                 False\n                             ...  \nYukon-Koyukuk Census Area    False\nYuma County                  False\nZapata County                False\nZavala County                False\nZiebach County               False\nName: 2010Census, Length: 1877, dtype: bool"
     },
     "execution_count": 47,
     "metadata": {},
     "output_type": "execute_result"
    }
   ],
   "source": [
    "pop.groupby('County').sum()['2010Census'] > 1000000"
   ],
   "metadata": {
    "collapsed": false,
    "ExecuteTime": {
     "end_time": "2023-11-30T03:40:35.678141Z",
     "start_time": "2023-11-30T03:40:35.669278Z"
    }
   }
  },
  {
   "cell_type": "code",
   "execution_count": 48,
   "outputs": [
    {
     "data": {
      "text/plain": "39"
     },
     "execution_count": 48,
     "metadata": {},
     "output_type": "execute_result"
    }
   ],
   "source": [
    "sum(pop['2010Census'] > 1000000)"
   ],
   "metadata": {
    "collapsed": false,
    "ExecuteTime": {
     "end_time": "2023-11-30T03:40:37.149459Z",
     "start_time": "2023-11-30T03:40:37.145865Z"
    }
   }
  },
  {
   "cell_type": "code",
   "execution_count": 10,
   "metadata": {},
   "outputs": [
    {
     "data": {
      "text/plain": [
       "39"
      ]
     },
     "execution_count": 10,
     "metadata": {},
     "output_type": "execute_result"
    }
   ],
   "source": [
    "# DON'T WRITE HERE"
   ]
  },
  {
   "cell_type": "markdown",
   "metadata": {},
   "source": [
    "#### 10. How many Counties don't have the word \"County\" in their name?"
   ]
  },
  {
   "cell_type": "code",
   "execution_count": 52,
   "outputs": [
    {
     "data": {
      "text/plain": "0       Abbeville County\n1          Acadia Parish\n2        Accomack County\n3             Ada County\n4           Adair County\n              ...       \n3137         Yuma County\n3138         Yuma County\n3139       Zapata County\n3140       Zavala County\n3141      Ziebach County\nName: County, Length: 3142, dtype: object"
     },
     "execution_count": 52,
     "metadata": {},
     "output_type": "execute_result"
    }
   ],
   "source": [
    "pop['County']"
   ],
   "metadata": {
    "collapsed": false,
    "ExecuteTime": {
     "end_time": "2023-11-30T03:41:10.140002Z",
     "start_time": "2023-11-30T03:41:10.137205Z"
    }
   }
  },
  {
   "cell_type": "code",
   "execution_count": 58,
   "outputs": [
    {
     "data": {
      "text/plain": "County\nFalse    3007\nTrue      135\nName: count, dtype: int64"
     },
     "execution_count": 58,
     "metadata": {},
     "output_type": "execute_result"
    }
   ],
   "source": [
    "pop['County'].apply(lambda name: 'County' not in name).value_counts()"
   ],
   "metadata": {
    "collapsed": false,
    "ExecuteTime": {
     "end_time": "2023-11-30T03:42:35.185704Z",
     "start_time": "2023-11-30T03:42:35.177343Z"
    }
   }
  },
  {
   "cell_type": "code",
   "execution_count": 66,
   "outputs": [
    {
     "data": {
      "text/plain": "135"
     },
     "execution_count": 66,
     "metadata": {},
     "output_type": "execute_result"
    }
   ],
   "source": [
    "sum(pop['County'].apply(lambda name: 'County' not in name))"
   ],
   "metadata": {
    "collapsed": false,
    "ExecuteTime": {
     "end_time": "2023-11-30T03:44:37.466759Z",
     "start_time": "2023-11-30T03:44:37.398868Z"
    }
   }
  },
  {
   "cell_type": "code",
   "execution_count": 11,
   "metadata": {},
   "outputs": [
    {
     "data": {
      "text/plain": [
       "135"
      ]
     },
     "execution_count": 11,
     "metadata": {},
     "output_type": "execute_result"
    }
   ],
   "source": [
    "# DON'T WRITE HERE"
   ]
  },
  {
   "cell_type": "markdown",
   "metadata": {},
   "source": [
    "#### 11. Add a column that calculates the percent change between the 2010 Census and the 2017 Population Estimate"
   ]
  },
  {
   "cell_type": "code",
   "execution_count": 92,
   "metadata": {
    "ExecuteTime": {
     "end_time": "2023-11-30T03:52:24.691975Z",
     "start_time": "2023-11-30T03:52:24.640268Z"
    }
   },
   "outputs": [
    {
     "data": {
      "text/plain": "             County           State  2010Census  2017PopEstimate  % Changed\n0  Abbeville County  South Carolina       25417            24722  -2.734390\n1     Acadia Parish       Louisiana       61773            62590   1.322584\n2   Accomack County        Virginia       33164            32545  -1.866482\n3        Ada County           Idaho      392365           456849  16.434697\n4      Adair County            Iowa        7682             7054  -8.174954",
      "text/html": "<div>\n<style scoped>\n    .dataframe tbody tr th:only-of-type {\n        vertical-align: middle;\n    }\n\n    .dataframe tbody tr th {\n        vertical-align: top;\n    }\n\n    .dataframe thead th {\n        text-align: right;\n    }\n</style>\n<table border=\"1\" class=\"dataframe\">\n  <thead>\n    <tr style=\"text-align: right;\">\n      <th></th>\n      <th>County</th>\n      <th>State</th>\n      <th>2010Census</th>\n      <th>2017PopEstimate</th>\n      <th>% Changed</th>\n    </tr>\n  </thead>\n  <tbody>\n    <tr>\n      <th>0</th>\n      <td>Abbeville County</td>\n      <td>South Carolina</td>\n      <td>25417</td>\n      <td>24722</td>\n      <td>-2.734390</td>\n    </tr>\n    <tr>\n      <th>1</th>\n      <td>Acadia Parish</td>\n      <td>Louisiana</td>\n      <td>61773</td>\n      <td>62590</td>\n      <td>1.322584</td>\n    </tr>\n    <tr>\n      <th>2</th>\n      <td>Accomack County</td>\n      <td>Virginia</td>\n      <td>33164</td>\n      <td>32545</td>\n      <td>-1.866482</td>\n    </tr>\n    <tr>\n      <th>3</th>\n      <td>Ada County</td>\n      <td>Idaho</td>\n      <td>392365</td>\n      <td>456849</td>\n      <td>16.434697</td>\n    </tr>\n    <tr>\n      <th>4</th>\n      <td>Adair County</td>\n      <td>Iowa</td>\n      <td>7682</td>\n      <td>7054</td>\n      <td>-8.174954</td>\n    </tr>\n  </tbody>\n</table>\n</div>"
     },
     "execution_count": 92,
     "metadata": {},
     "output_type": "execute_result"
    }
   ],
   "source": [
    "# CODE HERE\n",
    "pop['% Changed'] = (pop['2017PopEstimate'] - pop['2010Census']) / pop['2010Census'] * 100\n",
    "# USE THIS TO SHOW THE RESULT\n",
    "pop.head()"
   ]
  },
  {
   "cell_type": "code",
   "execution_count": 12,
   "metadata": {},
   "outputs": [
    {
     "data": {
      "text/html": [
       "<div>\n",
       "<style scoped>\n",
       "    .dataframe tbody tr th:only-of-type {\n",
       "        vertical-align: middle;\n",
       "    }\n",
       "\n",
       "    .dataframe tbody tr th {\n",
       "        vertical-align: top;\n",
       "    }\n",
       "\n",
       "    .dataframe thead th {\n",
       "        text-align: right;\n",
       "    }\n",
       "</style>\n",
       "<table border=\"1\" class=\"dataframe\">\n",
       "  <thead>\n",
       "    <tr style=\"text-align: right;\">\n",
       "      <th></th>\n",
       "      <th>County</th>\n",
       "      <th>State</th>\n",
       "      <th>2010Census</th>\n",
       "      <th>2017PopEstimate</th>\n",
       "      <th>PercentChange</th>\n",
       "    </tr>\n",
       "  </thead>\n",
       "  <tbody>\n",
       "    <tr>\n",
       "      <th>0</th>\n",
       "      <td>Abbeville County</td>\n",
       "      <td>South Carolina</td>\n",
       "      <td>25417</td>\n",
       "      <td>24722</td>\n",
       "      <td>-2.734390</td>\n",
       "    </tr>\n",
       "    <tr>\n",
       "      <th>1</th>\n",
       "      <td>Acadia Parish</td>\n",
       "      <td>Louisiana</td>\n",
       "      <td>61773</td>\n",
       "      <td>62590</td>\n",
       "      <td>1.322584</td>\n",
       "    </tr>\n",
       "    <tr>\n",
       "      <th>2</th>\n",
       "      <td>Accomack County</td>\n",
       "      <td>Virginia</td>\n",
       "      <td>33164</td>\n",
       "      <td>32545</td>\n",
       "      <td>-1.866482</td>\n",
       "    </tr>\n",
       "    <tr>\n",
       "      <th>3</th>\n",
       "      <td>Ada County</td>\n",
       "      <td>Idaho</td>\n",
       "      <td>392365</td>\n",
       "      <td>456849</td>\n",
       "      <td>16.434697</td>\n",
       "    </tr>\n",
       "    <tr>\n",
       "      <th>4</th>\n",
       "      <td>Adair County</td>\n",
       "      <td>Iowa</td>\n",
       "      <td>7682</td>\n",
       "      <td>7054</td>\n",
       "      <td>-8.174954</td>\n",
       "    </tr>\n",
       "  </tbody>\n",
       "</table>\n",
       "</div>"
      ],
      "text/plain": [
       "             County           State  2010Census  2017PopEstimate  \\\n",
       "0  Abbeville County  South Carolina       25417            24722   \n",
       "1     Acadia Parish       Louisiana       61773            62590   \n",
       "2   Accomack County        Virginia       33164            32545   \n",
       "3        Ada County           Idaho      392365           456849   \n",
       "4      Adair County            Iowa        7682             7054   \n",
       "\n",
       "   PercentChange  \n",
       "0      -2.734390  \n",
       "1       1.322584  \n",
       "2      -1.866482  \n",
       "3      16.434697  \n",
       "4      -8.174954  "
      ]
     },
     "execution_count": 12,
     "metadata": {},
     "output_type": "execute_result"
    }
   ],
   "source": [
    "|# DON'T WRITE HERE"
   ]
  },
  {
   "cell_type": "markdown",
   "metadata": {},
   "source": [
    "<strong>Bonus: What States have the highest estimated percent change between the 2010 Census and the 2017 Population Estimate?</strong><br>This will take several lines of code, as it requires a recalculation of PercentChange."
   ]
  },
  {
   "cell_type": "code",
   "execution_count": 93,
   "metadata": {
    "collapsed": true,
    "ExecuteTime": {
     "end_time": "2023-11-30T03:52:27.322989Z",
     "start_time": "2023-11-30T03:52:27.314720Z"
    }
   },
   "outputs": [],
   "source": [
    "# CODE HERE\n",
    "pop2 = pd.DataFrame(pop.groupby('State').sum())"
   ]
  },
  {
   "cell_type": "code",
   "execution_count": 94,
   "outputs": [
    {
     "data": {
      "text/plain": "                                                                 County  \\\nState                                                                     \nAlabama               Autauga CountyBaldwin CountyBarbour CountyBibb...   \nAlaska                Aleutians East BoroughAleutians West Census Ar...   \nArizona               Apache CountyCochise CountyCoconino CountyGila...   \nArkansas              Arkansas CountyAshley CountyBaxter CountyBento...   \nCalifornia            Alameda CountyAlpine CountyAmador CountyButte ...   \nColorado              Adams CountyAlamosa CountyArapahoe CountyArchu...   \nConnecticut           Fairfield CountyHartford CountyLitchfield Coun...   \nDelaware                      Kent CountyNew Castle CountySussex County   \nDistrict of Columbia                               District of Columbia   \nFlorida               Alachua CountyBaker CountyBay CountyBradford C...   \nGeorgia               Appling CountyAtkinson CountyBacon CountyBaker...   \nHawaii                Hawaii CountyHonolulu CountyKalawao CountyKaua...   \nIdaho                 Ada CountyAdams CountyBannock CountyBear Lake ...   \nIllinois              Adams CountyAlexander CountyBond CountyBoone C...   \nIndiana               Adams CountyAllen CountyBartholomew CountyBent...   \nIowa                  Adair CountyAdams CountyAllamakee CountyAppano...   \nKansas                Allen CountyAnderson CountyAtchison CountyBarb...   \nKentucky              Adair CountyAllen CountyAnderson CountyBallard...   \nLouisiana             Acadia ParishAllen ParishAscension ParishAssum...   \nMaine                 Androscoggin CountyAroostook CountyCumberland ...   \nMaryland              Allegany CountyAnne Arundel CountyBaltimore ci...   \nMassachusetts         Barnstable CountyBerkshire CountyBristol Count...   \nMichigan              Alcona CountyAlger CountyAllegan CountyAlpena ...   \nMinnesota             Aitkin CountyAnoka CountyBecker CountyBeltrami...   \nMississippi           Adams CountyAlcorn CountyAmite CountyAttala Co...   \nMissouri              Adair CountyAndrew CountyAtchison CountyAudrai...   \nMontana               Beaverhead CountyBig Horn CountyBlaine CountyB...   \nNebraska              Adams CountyAntelope CountyArthur CountyBanner...   \nNevada                Carson CityChurchill CountyClark CountyDouglas...   \nNew Hampshire         Belknap CountyCarroll CountyCheshire CountyCoo...   \nNew Jersey            Atlantic CountyBergen CountyBurlington CountyC...   \nNew Mexico            Bernalillo CountyCatron CountyChaves CountyCib...   \nNew York              Albany CountyAllegany CountyBronx CountyBroome...   \nNorth Carolina        Alamance CountyAlexander CountyAlleghany Count...   \nNorth Dakota          Adams CountyBarnes CountyBenson CountyBillings...   \nOhio                  Adams CountyAllen CountyAshland CountyAshtabul...   \nOklahoma              Adair CountyAlfalfa CountyAtoka CountyBeaver C...   \nOregon                Baker CountyBenton CountyClackamas CountyClats...   \nPennsylvania          Adams CountyAllegheny CountyArmstrong CountyBe...   \nRhode Island          Bristol CountyKent CountyNewport CountyProvide...   \nSouth Carolina        Abbeville CountyAiken CountyAllendale CountyAn...   \nSouth Dakota          Aurora CountyBeadle CountyBennett CountyBon Ho...   \nTennessee             Anderson CountyBedford CountyBenton CountyBled...   \nTexas                 Anderson CountyAndrews CountyAngelina CountyAr...   \nUtah                  Beaver CountyBox Elder CountyCache CountyCarbo...   \nVermont               Addison CountyBennington CountyCaledonia Count...   \nVirginia              Accomack CountyAlbemarle CountyAlexandria city...   \nWashington            Adams CountyAsotin CountyBenton CountyChelan C...   \nWest Virginia         Barbour CountyBerkeley CountyBoone CountyBraxt...   \nWisconsin             Adams CountyAshland CountyBarron CountyBayfiel...   \nWyoming               Albany CountyBig Horn CountyCampbell CountyCar...   \n\n                      2010Census  2017PopEstimate   % Changed  \nState                                                          \nAlabama                  4779736          4874747  -90.104665  \nAlaska                    710231           739795   79.918865  \nArizona                  6392017          7016270   61.091253  \nArkansas                 2915918          3004279 -157.120655  \nCalifornia              37253956         39536653  171.318587  \nColorado                 5029196          5607154  276.003951  \nConnecticut              3574097          3588184   -6.306999  \nDelaware                  897934           961939   27.192859  \nDistrict of Columbia      601723           693972   15.330808  \nFlorida                 18801310         20984400  511.173992  \nGeorgia                  9687653         10429379  253.477434  \nHawaii                   1360301          1427538   24.697324  \nIdaho                    1567582          1716943  131.246387  \nIllinois                12830632         12802023 -342.549294  \nIndiana                  6483802          6666818    9.627461  \nIowa                     3046355          3145711 -123.916843  \nKansas                   2853118          2913123 -314.245877  \nKentucky                 4339367          4454189  -16.991862  \nLouisiana                4533372          4684333    5.617474  \nMaine                    1328361          1335907  -11.986641  \nMaryland                 5773552          6052177   61.820362  \nMassachusetts            6547629          6859819   50.253589  \nMichigan                 9883640          9962311  -88.318582  \nMinnesota                5303925          5576606   23.984215  \nMississippi              2967297          2984100 -202.448241  \nMissouri                 5988927          6113532  -95.700507  \nMontana                   989415          1050493  121.568195  \nNebraska                 1826341          1920076 -138.659568  \nNevada                   2700551          2998039   24.691529  \nNew Hampshire            1316470          1342795    7.003199  \nNew Jersey               8791894          9005644   17.006799  \nNew Mexico               2059179          2088070  -78.433347  \nNew York                19378102         19849399  -78.778361  \nNorth Carolina           9535483         10273419  221.903768  \nNorth Dakota              672591           755393  308.640607  \nOhio                    11536504         11658609  -54.867098  \nOklahoma                 3751351          3930864    3.860638  \nOregon                   3831074          4142776  151.366592  \nPennsylvania            12702379         12805537  -95.758663  \nRhode Island             1052567          1059639   -1.630958  \nSouth Carolina           4625364          5024369  105.281744  \nSouth Dakota              814180           869666  107.905241  \nTennessee                6346105          6715984  246.721205  \nTexas                   25145561         28304596  955.535377  \nUtah                     2763885          3101833  216.823276  \nVermont                   625741           623657  -12.529791  \nVirginia                 8001024          8470020  216.452138  \nWashington               6724540          7405743  243.405927  \nWest Virginia            1852994          1815857 -176.749259  \nWisconsin                5686986          5795483    8.253743  \nWyoming                   563626           579315   20.144261  ",
      "text/html": "<div>\n<style scoped>\n    .dataframe tbody tr th:only-of-type {\n        vertical-align: middle;\n    }\n\n    .dataframe tbody tr th {\n        vertical-align: top;\n    }\n\n    .dataframe thead th {\n        text-align: right;\n    }\n</style>\n<table border=\"1\" class=\"dataframe\">\n  <thead>\n    <tr style=\"text-align: right;\">\n      <th></th>\n      <th>County</th>\n      <th>2010Census</th>\n      <th>2017PopEstimate</th>\n      <th>% Changed</th>\n    </tr>\n    <tr>\n      <th>State</th>\n      <th></th>\n      <th></th>\n      <th></th>\n      <th></th>\n    </tr>\n  </thead>\n  <tbody>\n    <tr>\n      <th>Alabama</th>\n      <td>Autauga CountyBaldwin CountyBarbour CountyBibb...</td>\n      <td>4779736</td>\n      <td>4874747</td>\n      <td>-90.104665</td>\n    </tr>\n    <tr>\n      <th>Alaska</th>\n      <td>Aleutians East BoroughAleutians West Census Ar...</td>\n      <td>710231</td>\n      <td>739795</td>\n      <td>79.918865</td>\n    </tr>\n    <tr>\n      <th>Arizona</th>\n      <td>Apache CountyCochise CountyCoconino CountyGila...</td>\n      <td>6392017</td>\n      <td>7016270</td>\n      <td>61.091253</td>\n    </tr>\n    <tr>\n      <th>Arkansas</th>\n      <td>Arkansas CountyAshley CountyBaxter CountyBento...</td>\n      <td>2915918</td>\n      <td>3004279</td>\n      <td>-157.120655</td>\n    </tr>\n    <tr>\n      <th>California</th>\n      <td>Alameda CountyAlpine CountyAmador CountyButte ...</td>\n      <td>37253956</td>\n      <td>39536653</td>\n      <td>171.318587</td>\n    </tr>\n    <tr>\n      <th>Colorado</th>\n      <td>Adams CountyAlamosa CountyArapahoe CountyArchu...</td>\n      <td>5029196</td>\n      <td>5607154</td>\n      <td>276.003951</td>\n    </tr>\n    <tr>\n      <th>Connecticut</th>\n      <td>Fairfield CountyHartford CountyLitchfield Coun...</td>\n      <td>3574097</td>\n      <td>3588184</td>\n      <td>-6.306999</td>\n    </tr>\n    <tr>\n      <th>Delaware</th>\n      <td>Kent CountyNew Castle CountySussex County</td>\n      <td>897934</td>\n      <td>961939</td>\n      <td>27.192859</td>\n    </tr>\n    <tr>\n      <th>District of Columbia</th>\n      <td>District of Columbia</td>\n      <td>601723</td>\n      <td>693972</td>\n      <td>15.330808</td>\n    </tr>\n    <tr>\n      <th>Florida</th>\n      <td>Alachua CountyBaker CountyBay CountyBradford C...</td>\n      <td>18801310</td>\n      <td>20984400</td>\n      <td>511.173992</td>\n    </tr>\n    <tr>\n      <th>Georgia</th>\n      <td>Appling CountyAtkinson CountyBacon CountyBaker...</td>\n      <td>9687653</td>\n      <td>10429379</td>\n      <td>253.477434</td>\n    </tr>\n    <tr>\n      <th>Hawaii</th>\n      <td>Hawaii CountyHonolulu CountyKalawao CountyKaua...</td>\n      <td>1360301</td>\n      <td>1427538</td>\n      <td>24.697324</td>\n    </tr>\n    <tr>\n      <th>Idaho</th>\n      <td>Ada CountyAdams CountyBannock CountyBear Lake ...</td>\n      <td>1567582</td>\n      <td>1716943</td>\n      <td>131.246387</td>\n    </tr>\n    <tr>\n      <th>Illinois</th>\n      <td>Adams CountyAlexander CountyBond CountyBoone C...</td>\n      <td>12830632</td>\n      <td>12802023</td>\n      <td>-342.549294</td>\n    </tr>\n    <tr>\n      <th>Indiana</th>\n      <td>Adams CountyAllen CountyBartholomew CountyBent...</td>\n      <td>6483802</td>\n      <td>6666818</td>\n      <td>9.627461</td>\n    </tr>\n    <tr>\n      <th>Iowa</th>\n      <td>Adair CountyAdams CountyAllamakee CountyAppano...</td>\n      <td>3046355</td>\n      <td>3145711</td>\n      <td>-123.916843</td>\n    </tr>\n    <tr>\n      <th>Kansas</th>\n      <td>Allen CountyAnderson CountyAtchison CountyBarb...</td>\n      <td>2853118</td>\n      <td>2913123</td>\n      <td>-314.245877</td>\n    </tr>\n    <tr>\n      <th>Kentucky</th>\n      <td>Adair CountyAllen CountyAnderson CountyBallard...</td>\n      <td>4339367</td>\n      <td>4454189</td>\n      <td>-16.991862</td>\n    </tr>\n    <tr>\n      <th>Louisiana</th>\n      <td>Acadia ParishAllen ParishAscension ParishAssum...</td>\n      <td>4533372</td>\n      <td>4684333</td>\n      <td>5.617474</td>\n    </tr>\n    <tr>\n      <th>Maine</th>\n      <td>Androscoggin CountyAroostook CountyCumberland ...</td>\n      <td>1328361</td>\n      <td>1335907</td>\n      <td>-11.986641</td>\n    </tr>\n    <tr>\n      <th>Maryland</th>\n      <td>Allegany CountyAnne Arundel CountyBaltimore ci...</td>\n      <td>5773552</td>\n      <td>6052177</td>\n      <td>61.820362</td>\n    </tr>\n    <tr>\n      <th>Massachusetts</th>\n      <td>Barnstable CountyBerkshire CountyBristol Count...</td>\n      <td>6547629</td>\n      <td>6859819</td>\n      <td>50.253589</td>\n    </tr>\n    <tr>\n      <th>Michigan</th>\n      <td>Alcona CountyAlger CountyAllegan CountyAlpena ...</td>\n      <td>9883640</td>\n      <td>9962311</td>\n      <td>-88.318582</td>\n    </tr>\n    <tr>\n      <th>Minnesota</th>\n      <td>Aitkin CountyAnoka CountyBecker CountyBeltrami...</td>\n      <td>5303925</td>\n      <td>5576606</td>\n      <td>23.984215</td>\n    </tr>\n    <tr>\n      <th>Mississippi</th>\n      <td>Adams CountyAlcorn CountyAmite CountyAttala Co...</td>\n      <td>2967297</td>\n      <td>2984100</td>\n      <td>-202.448241</td>\n    </tr>\n    <tr>\n      <th>Missouri</th>\n      <td>Adair CountyAndrew CountyAtchison CountyAudrai...</td>\n      <td>5988927</td>\n      <td>6113532</td>\n      <td>-95.700507</td>\n    </tr>\n    <tr>\n      <th>Montana</th>\n      <td>Beaverhead CountyBig Horn CountyBlaine CountyB...</td>\n      <td>989415</td>\n      <td>1050493</td>\n      <td>121.568195</td>\n    </tr>\n    <tr>\n      <th>Nebraska</th>\n      <td>Adams CountyAntelope CountyArthur CountyBanner...</td>\n      <td>1826341</td>\n      <td>1920076</td>\n      <td>-138.659568</td>\n    </tr>\n    <tr>\n      <th>Nevada</th>\n      <td>Carson CityChurchill CountyClark CountyDouglas...</td>\n      <td>2700551</td>\n      <td>2998039</td>\n      <td>24.691529</td>\n    </tr>\n    <tr>\n      <th>New Hampshire</th>\n      <td>Belknap CountyCarroll CountyCheshire CountyCoo...</td>\n      <td>1316470</td>\n      <td>1342795</td>\n      <td>7.003199</td>\n    </tr>\n    <tr>\n      <th>New Jersey</th>\n      <td>Atlantic CountyBergen CountyBurlington CountyC...</td>\n      <td>8791894</td>\n      <td>9005644</td>\n      <td>17.006799</td>\n    </tr>\n    <tr>\n      <th>New Mexico</th>\n      <td>Bernalillo CountyCatron CountyChaves CountyCib...</td>\n      <td>2059179</td>\n      <td>2088070</td>\n      <td>-78.433347</td>\n    </tr>\n    <tr>\n      <th>New York</th>\n      <td>Albany CountyAllegany CountyBronx CountyBroome...</td>\n      <td>19378102</td>\n      <td>19849399</td>\n      <td>-78.778361</td>\n    </tr>\n    <tr>\n      <th>North Carolina</th>\n      <td>Alamance CountyAlexander CountyAlleghany Count...</td>\n      <td>9535483</td>\n      <td>10273419</td>\n      <td>221.903768</td>\n    </tr>\n    <tr>\n      <th>North Dakota</th>\n      <td>Adams CountyBarnes CountyBenson CountyBillings...</td>\n      <td>672591</td>\n      <td>755393</td>\n      <td>308.640607</td>\n    </tr>\n    <tr>\n      <th>Ohio</th>\n      <td>Adams CountyAllen CountyAshland CountyAshtabul...</td>\n      <td>11536504</td>\n      <td>11658609</td>\n      <td>-54.867098</td>\n    </tr>\n    <tr>\n      <th>Oklahoma</th>\n      <td>Adair CountyAlfalfa CountyAtoka CountyBeaver C...</td>\n      <td>3751351</td>\n      <td>3930864</td>\n      <td>3.860638</td>\n    </tr>\n    <tr>\n      <th>Oregon</th>\n      <td>Baker CountyBenton CountyClackamas CountyClats...</td>\n      <td>3831074</td>\n      <td>4142776</td>\n      <td>151.366592</td>\n    </tr>\n    <tr>\n      <th>Pennsylvania</th>\n      <td>Adams CountyAllegheny CountyArmstrong CountyBe...</td>\n      <td>12702379</td>\n      <td>12805537</td>\n      <td>-95.758663</td>\n    </tr>\n    <tr>\n      <th>Rhode Island</th>\n      <td>Bristol CountyKent CountyNewport CountyProvide...</td>\n      <td>1052567</td>\n      <td>1059639</td>\n      <td>-1.630958</td>\n    </tr>\n    <tr>\n      <th>South Carolina</th>\n      <td>Abbeville CountyAiken CountyAllendale CountyAn...</td>\n      <td>4625364</td>\n      <td>5024369</td>\n      <td>105.281744</td>\n    </tr>\n    <tr>\n      <th>South Dakota</th>\n      <td>Aurora CountyBeadle CountyBennett CountyBon Ho...</td>\n      <td>814180</td>\n      <td>869666</td>\n      <td>107.905241</td>\n    </tr>\n    <tr>\n      <th>Tennessee</th>\n      <td>Anderson CountyBedford CountyBenton CountyBled...</td>\n      <td>6346105</td>\n      <td>6715984</td>\n      <td>246.721205</td>\n    </tr>\n    <tr>\n      <th>Texas</th>\n      <td>Anderson CountyAndrews CountyAngelina CountyAr...</td>\n      <td>25145561</td>\n      <td>28304596</td>\n      <td>955.535377</td>\n    </tr>\n    <tr>\n      <th>Utah</th>\n      <td>Beaver CountyBox Elder CountyCache CountyCarbo...</td>\n      <td>2763885</td>\n      <td>3101833</td>\n      <td>216.823276</td>\n    </tr>\n    <tr>\n      <th>Vermont</th>\n      <td>Addison CountyBennington CountyCaledonia Count...</td>\n      <td>625741</td>\n      <td>623657</td>\n      <td>-12.529791</td>\n    </tr>\n    <tr>\n      <th>Virginia</th>\n      <td>Accomack CountyAlbemarle CountyAlexandria city...</td>\n      <td>8001024</td>\n      <td>8470020</td>\n      <td>216.452138</td>\n    </tr>\n    <tr>\n      <th>Washington</th>\n      <td>Adams CountyAsotin CountyBenton CountyChelan C...</td>\n      <td>6724540</td>\n      <td>7405743</td>\n      <td>243.405927</td>\n    </tr>\n    <tr>\n      <th>West Virginia</th>\n      <td>Barbour CountyBerkeley CountyBoone CountyBraxt...</td>\n      <td>1852994</td>\n      <td>1815857</td>\n      <td>-176.749259</td>\n    </tr>\n    <tr>\n      <th>Wisconsin</th>\n      <td>Adams CountyAshland CountyBarron CountyBayfiel...</td>\n      <td>5686986</td>\n      <td>5795483</td>\n      <td>8.253743</td>\n    </tr>\n    <tr>\n      <th>Wyoming</th>\n      <td>Albany CountyBig Horn CountyCampbell CountyCar...</td>\n      <td>563626</td>\n      <td>579315</td>\n      <td>20.144261</td>\n    </tr>\n  </tbody>\n</table>\n</div>"
     },
     "execution_count": 94,
     "metadata": {},
     "output_type": "execute_result"
    }
   ],
   "source": [
    "pop2"
   ],
   "metadata": {
    "collapsed": false,
    "ExecuteTime": {
     "end_time": "2023-11-30T03:52:28.089397Z",
     "start_time": "2023-11-30T03:52:28.073982Z"
    }
   }
  },
  {
   "cell_type": "code",
   "execution_count": 95,
   "outputs": [
    {
     "data": {
      "text/plain": "                                                                 County  \\\nState                                                                     \nDistrict of Columbia                               District of Columbia   \nTexas                 Anderson CountyAndrews CountyAngelina CountyAr...   \nNorth Dakota          Adams CountyBarnes CountyBenson CountyBillings...   \nUtah                  Beaver CountyBox Elder CountyCache CountyCarbo...   \nFlorida               Alachua CountyBaker CountyBay CountyBradford C...   \n\n                      2010Census  2017PopEstimate  % Changed  \nState                                                         \nDistrict of Columbia      601723           693972  15.330808  \nTexas                   25145561         28304596  12.562993  \nNorth Dakota              672591           755393  12.310899  \nUtah                     2763885          3101833  12.227282  \nFlorida                 18801310         20984400  11.611372  ",
      "text/html": "<div>\n<style scoped>\n    .dataframe tbody tr th:only-of-type {\n        vertical-align: middle;\n    }\n\n    .dataframe tbody tr th {\n        vertical-align: top;\n    }\n\n    .dataframe thead th {\n        text-align: right;\n    }\n</style>\n<table border=\"1\" class=\"dataframe\">\n  <thead>\n    <tr style=\"text-align: right;\">\n      <th></th>\n      <th>County</th>\n      <th>2010Census</th>\n      <th>2017PopEstimate</th>\n      <th>% Changed</th>\n    </tr>\n    <tr>\n      <th>State</th>\n      <th></th>\n      <th></th>\n      <th></th>\n      <th></th>\n    </tr>\n  </thead>\n  <tbody>\n    <tr>\n      <th>District of Columbia</th>\n      <td>District of Columbia</td>\n      <td>601723</td>\n      <td>693972</td>\n      <td>15.330808</td>\n    </tr>\n    <tr>\n      <th>Texas</th>\n      <td>Anderson CountyAndrews CountyAngelina CountyAr...</td>\n      <td>25145561</td>\n      <td>28304596</td>\n      <td>12.562993</td>\n    </tr>\n    <tr>\n      <th>North Dakota</th>\n      <td>Adams CountyBarnes CountyBenson CountyBillings...</td>\n      <td>672591</td>\n      <td>755393</td>\n      <td>12.310899</td>\n    </tr>\n    <tr>\n      <th>Utah</th>\n      <td>Beaver CountyBox Elder CountyCache CountyCarbo...</td>\n      <td>2763885</td>\n      <td>3101833</td>\n      <td>12.227282</td>\n    </tr>\n    <tr>\n      <th>Florida</th>\n      <td>Alachua CountyBaker CountyBay CountyBradford C...</td>\n      <td>18801310</td>\n      <td>20984400</td>\n      <td>11.611372</td>\n    </tr>\n  </tbody>\n</table>\n</div>"
     },
     "execution_count": 95,
     "metadata": {},
     "output_type": "execute_result"
    }
   ],
   "source": [
    "pop2['% Changed'] = 100*(pop2['2017PopEstimate']-pop2['2010Census'])/pop2['2010Census']\n",
    "pop2.sort_values('% Changed', ascending=False).head()"
   ],
   "metadata": {
    "collapsed": false,
    "ExecuteTime": {
     "end_time": "2023-11-30T03:53:08.353607Z",
     "start_time": "2023-11-30T03:53:08.340523Z"
    }
   }
  },
  {
   "cell_type": "code",
   "execution_count": 13,
   "metadata": {},
   "outputs": [
    {
     "data": {
      "text/html": [
       "<div>\n",
       "<style scoped>\n",
       "    .dataframe tbody tr th:only-of-type {\n",
       "        vertical-align: middle;\n",
       "    }\n",
       "\n",
       "    .dataframe tbody tr th {\n",
       "        vertical-align: top;\n",
       "    }\n",
       "\n",
       "    .dataframe thead th {\n",
       "        text-align: right;\n",
       "    }\n",
       "</style>\n",
       "<table border=\"1\" class=\"dataframe\">\n",
       "  <thead>\n",
       "    <tr style=\"text-align: right;\">\n",
       "      <th></th>\n",
       "      <th>2010Census</th>\n",
       "      <th>2017PopEstimate</th>\n",
       "      <th>PercentChange</th>\n",
       "    </tr>\n",
       "    <tr>\n",
       "      <th>State</th>\n",
       "      <th></th>\n",
       "      <th></th>\n",
       "      <th></th>\n",
       "    </tr>\n",
       "  </thead>\n",
       "  <tbody>\n",
       "    <tr>\n",
       "      <th>District of Columbia</th>\n",
       "      <td>601723</td>\n",
       "      <td>693972</td>\n",
       "      <td>15.330808</td>\n",
       "    </tr>\n",
       "    <tr>\n",
       "      <th>Texas</th>\n",
       "      <td>25145561</td>\n",
       "      <td>28304596</td>\n",
       "      <td>12.562993</td>\n",
       "    </tr>\n",
       "    <tr>\n",
       "      <th>North Dakota</th>\n",
       "      <td>672591</td>\n",
       "      <td>755393</td>\n",
       "      <td>12.310899</td>\n",
       "    </tr>\n",
       "    <tr>\n",
       "      <th>Utah</th>\n",
       "      <td>2763885</td>\n",
       "      <td>3101833</td>\n",
       "      <td>12.227282</td>\n",
       "    </tr>\n",
       "    <tr>\n",
       "      <th>Florida</th>\n",
       "      <td>18801310</td>\n",
       "      <td>20984400</td>\n",
       "      <td>11.611372</td>\n",
       "    </tr>\n",
       "  </tbody>\n",
       "</table>\n",
       "</div>"
      ],
      "text/plain": [
       "                      2010Census  2017PopEstimate  PercentChange\n",
       "State                                                           \n",
       "District of Columbia      601723           693972      15.330808\n",
       "Texas                   25145561         28304596      12.562993\n",
       "North Dakota              672591           755393      12.310899\n",
       "Utah                     2763885          3101833      12.227282\n",
       "Florida                 18801310         20984400      11.611372"
      ]
     },
     "execution_count": 13,
     "metadata": {},
     "output_type": "execute_result"
    }
   ],
   "source": [
    "# DON'T WRITE HERE"
   ]
  },
  {
   "cell_type": "markdown",
   "metadata": {},
   "source": [
    "# GREAT JOB!"
   ]
  },
  {
   "cell_type": "code",
   "execution_count": null,
   "outputs": [],
   "source": [],
   "metadata": {
    "collapsed": false
   }
  }
 ],
 "metadata": {
  "kernelspec": {
   "display_name": "Python 3",
   "language": "python",
   "name": "python3"
  },
  "language_info": {
   "codemirror_mode": {
    "name": "ipython",
    "version": 3
   },
   "file_extension": ".py",
   "mimetype": "text/x-python",
   "name": "python",
   "nbconvert_exporter": "python",
   "pygments_lexer": "ipython3",
   "version": "3.7.2"
  }
 },
 "nbformat": 4,
 "nbformat_minor": 2
}
